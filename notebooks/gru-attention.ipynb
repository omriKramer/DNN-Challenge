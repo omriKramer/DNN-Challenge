{
 "cells": [
  {
   "cell_type": "code",
   "execution_count": null,
   "metadata": {},
   "outputs": [],
   "source": [
    "import sys\n",
    "sys.path[0] = ('/home/labs/waic/omrik/DNN-Challenge')\n",
    "from fastai.vision import *\n",
    "import pre\n",
    "import resample\n",
    "\n",
    "root = Path('../data').resolve()\n",
    "train = root / 'train'\n",
    "val = root / 'val'"
   ]
  },
  {
   "cell_type": "code",
   "execution_count": null,
   "metadata": {},
   "outputs": [],
   "source": [
    "def normalize_time(series):\n",
    "    # 1440 minutes in a day\n",
    "    normalized = (series.hour * 60 + series.minute) / 1440\n",
    "    return normalized\n",
    "\n",
    "def get_data(data_dir, sub_mean=False):\n",
    "    cgm, meals = pre.get_dfs(data_dir)\n",
    "    if sub_mean:\n",
    "        mean, std = pre.norm_stats['GlucoseValue']\n",
    "        cgm['GlucoseValue'] = cgm['GlucoseValue'] - mean / std\n",
    "        \n",
    "    meals = resample.resample_meals(cgm, meals, 15)\n",
    "    meals = pd.concat((meals, cgm), axis=1)\n",
    "    meals['time'] = normalize_time(meals.index.get_level_values('Date'))\n",
    "    cgm, y = pre.build_cgm(cgm)\n",
    "    return cgm, meals, y\n",
    "\n",
    "class ContData(Dataset):\n",
    "    def __init__(self, cgm, meals, y):\n",
    "        self.cgm = cgm\n",
    "        self.meals = meals\n",
    "        self.y = y\n",
    "        \n",
    "    def __len__(self):\n",
    "        return len(self.cgm)\n",
    "    \n",
    "    def __getitem__(self, i):\n",
    "        index = self.meals.index.get_loc(self.cgm.index[i])\n",
    "        values = self.meals[index-48:index+1].values\n",
    "        target = self.y.iloc[i].values\n",
    "        x, y = torch.tensor(values, dtype=torch.float), torch.tensor(target, dtype=torch.float)\n",
    "        return x, y\n",
    "    \n",
    "class AddNoise(Callback):\n",
    "    \n",
    "    def __init__(self, std):\n",
    "        self.std = std\n",
    "        \n",
    "    def on_batch_begin(self, last_input, last_target, train, **kwargs):\n",
    "        if not train:\n",
    "            return\n",
    "        \n",
    "        size = last_input.shape[0], last_input.shape[2]\n",
    "        noise = torch.normal(0, self.std, size).to(last_input.device)\n",
    "        last_input[:, -2] += noise\n",
    "        return {'last_input': last_input}\n"
   ]
  },
  {
   "cell_type": "code",
   "execution_count": null,
   "metadata": {},
   "outputs": [],
   "source": [
    "train_data = get_data(train)\n",
    "val_data = get_data(val)\n",
    "train_data[1].head()"
   ]
  },
  {
   "cell_type": "code",
   "execution_count": null,
   "metadata": {},
   "outputs": [],
   "source": [
    "train_ds = ContData(*train_data)\n",
    "val_ds = ContData(*val_data)\n",
    "data = DataBunch.create(train_ds, val_ds, bs=512)\n",
    "data"
   ]
  },
  {
   "cell_type": "code",
   "execution_count": null,
   "metadata": {},
   "outputs": [],
   "source": [
    "from metrics import Pearson\n",
    "\n",
    "\n",
    "class EncoderRNN(nn.Module):\n",
    "    def __init__(self, input_size, hidden_size):\n",
    "        super(EncoderRNN, self).__init__()\n",
    "        self.hidden_size = hidden_size\n",
    "\n",
    "        self.embedding = nn.Linear(input_size, hidden_size)\n",
    "        self.gru = nn.GRU(hidden_size, hidden_size)\n",
    "\n",
    "    def forward(self, input, hidden):\n",
    "        embedded = self.embedding(input)\n",
    "        output = embedded\n",
    "        output, hidden = self.gru(output[None], hidden)\n",
    "        return output[0], hidden\n",
    "\n",
    "    def initHidden(self, bs, device):\n",
    "        return torch.zeros(1, bs, self.hidden_size, device=device)\n"
   ]
  },
  {
   "cell_type": "code",
   "execution_count": null,
   "metadata": {},
   "outputs": [],
   "source": [
    "MAX_LENGTH = 49\n",
    "\n",
    "class AttnDecoder(nn.Module):\n",
    "    def __init__(self, hidden_size, output_size=8, max_length=MAX_LENGTH):\n",
    "        super().__init__()\n",
    "        self.hidden_size = hidden_size\n",
    "        self.output_size = output_size\n",
    "        self.max_length = max_length\n",
    "\n",
    "        self.attn = nn.Linear(self.hidden_size, 1)\n",
    "        self.attn_combine = nn.Linear(self.hidden_size, self.hidden_size)\n",
    "        self.gru = nn.GRU(self.hidden_size, self.hidden_size)\n",
    "        self.out = nn.Linear(self.hidden_size, self.output_size)\n",
    "\n",
    "    def forward(self, encoder_outputs):\n",
    "        attn_weights = F.softmax(self.attn(encoder_outputs).squeeze(), dim=1)\n",
    "        attn_applied = torch.bmm(attn_weights[:, None], encoder_outputs).squeeze()\n",
    "\n",
    "        output = self.attn_combine(attn_applied)\n",
    "        output = F.relu(output)\n",
    "\n",
    "        output = self.out(output)\n",
    "        return output"
   ]
  },
  {
   "cell_type": "code",
   "execution_count": null,
   "metadata": {},
   "outputs": [],
   "source": [
    "class Seq2Seq(Module):\n",
    "    def __init__(self, input_size, hidden_size):\n",
    "        super().__init__()\n",
    "        self.encoder = EncoderRNN(input_size, hidden_size)\n",
    "        self.decoder = AttnDecoder(hidden_size)\n",
    "        \n",
    "    def forward(self, input):\n",
    "        device = input.device\n",
    "        bs = input.shape[0]\n",
    "        input = input.transpose(0, 1)\n",
    "        \n",
    "        encoder_hidden = self.encoder.initHidden(bs, device)\n",
    "        encoder_outputs = input.new_zeros(bs, MAX_LENGTH, self.encoder.hidden_size)\n",
    "        \n",
    "        for ei in range(input.shape[0]):\n",
    "            encoder_output, encoder_hidden = self.encoder(input[ei], encoder_hidden)\n",
    "            encoder_outputs[:, ei] = encoder_output\n",
    "            \n",
    "            \n",
    "        out = self.decoder(encoder_outputs)\n",
    "        return out"
   ]
  },
  {
   "cell_type": "code",
   "execution_count": null,
   "metadata": {},
   "outputs": [],
   "source": [
    "defaults.device = torch.device('cpu')\n",
    "model = Seq2Seq(38, 128)\n",
    "metrics = [mean_absolute_error, Pearson(val_ds.y)]\n",
    "learner = Learner(data, model, loss_func=nn.MSELoss(), metrics=metrics)"
   ]
  },
  {
   "cell_type": "code",
   "execution_count": null,
   "metadata": {},
   "outputs": [],
   "source": [
    "learner.lr_find()\n",
    "learner.recorder.plot(suggestion=True)"
   ]
  },
  {
   "cell_type": "code",
   "execution_count": null,
   "metadata": {},
   "outputs": [],
   "source": [
    "learner.fit_one_cycle(10, 1e-3)"
   ]
  },
  {
   "cell_type": "code",
   "execution_count": null,
   "metadata": {},
   "outputs": [],
   "source": [
    "learner.save('gru1-attn-h128')"
   ]
  },
  {
   "cell_type": "code",
   "execution_count": null,
   "metadata": {},
   "outputs": [],
   "source": [
    "train_data = get_data(train, sub_mean=True)\n",
    "val_data = get_data(val, sub_mean=True)"
   ]
  },
  {
   "cell_type": "code",
   "execution_count": null,
   "metadata": {},
   "outputs": [],
   "source": [
    "train_ds = ContData(*train_data)\n",
    "val_ds = ContData(*val_data)\n",
    "data = DataBunch.create(train_ds, val_ds, bs=512)\n",
    "data"
   ]
  },
  {
   "cell_type": "code",
   "execution_count": null,
   "metadata": {},
   "outputs": [],
   "source": [
    "model = Seq2Seq(38, 128)\n",
    "metrics = [mean_absolute_error, Pearson(val_ds.y)]\n",
    "learner = Learner(data, model, loss_func=nn.MSELoss(), metrics=metrics)"
   ]
  },
  {
   "cell_type": "code",
   "execution_count": null,
   "metadata": {},
   "outputs": [],
   "source": [
    "learner.lr_find()\n",
    "learner.recorder.plot(suggestion=True)"
   ]
  },
  {
   "cell_type": "code",
   "execution_count": null,
   "metadata": {},
   "outputs": [],
   "source": [
    "learner.fit_one_cycle(10, 1e-3)"
   ]
  },
  {
   "cell_type": "markdown",
   "metadata": {},
   "source": [
    "## with noise"
   ]
  },
  {
   "cell_type": "code",
   "execution_count": null,
   "metadata": {},
   "outputs": [],
   "source": [
    "model = Seq2Seq(38, 128)\n",
    "metrics = [mean_absolute_error, Pearson(val_ds.y)]\n",
    "learner = Learner(data, model, loss_func=nn.MSELoss(), metrics=metrics, callbacks=AddNoise(0.1))"
   ]
  },
  {
   "cell_type": "code",
   "execution_count": null,
   "metadata": {},
   "outputs": [],
   "source": [
    "learner.lr_find()\n",
    "learner.recorder.plot(suggestion=True)"
   ]
  },
  {
   "cell_type": "code",
   "execution_count": null,
   "metadata": {
    "scrolled": true
   },
   "outputs": [],
   "source": [
    "learner.fit_one_cycle(10, 1e-3)"
   ]
  },
  {
   "cell_type": "markdown",
   "metadata": {},
   "source": [
    "## Seq2Lin"
   ]
  },
  {
   "cell_type": "code",
   "execution_count": null,
   "metadata": {},
   "outputs": [],
   "source": [
    "train_data = get_data(train)\n",
    "val_data = get_data(val)\n",
    "train_ds = ContData(*train_data)\n",
    "val_ds = ContData(*val_data)\n",
    "data = DataBunch.create(train_ds, val_ds, bs=512)\n",
    "data"
   ]
  },
  {
   "cell_type": "code",
   "execution_count": null,
   "metadata": {},
   "outputs": [],
   "source": [
    "class Seq2Lin(Module):\n",
    "    def __init__(self, input_size, hidden_size):\n",
    "        super().__init__()\n",
    "        self.encoder = EncoderRNN(input_size, hidden_size)\n",
    "        self.self_attention = SelfAttention(MAX_LENGTH) if self_attention else None\n",
    "        self.relu = nn.ReLU(inplace=True)\n",
    "        self.decoder = nn.Linear(hidden_size, 8)\n",
    "\n",
    "        \n",
    "    def forward(self, input):\n",
    "        device = input.device\n",
    "        bs = input.shape[0]\n",
    "        input = input.transpose(0, 1)\n",
    "        \n",
    "        encoder_hidden = self.encoder.initHidden(bs, device)\n",
    "        encoder_outputs = input.new_zeros(bs, MAX_LENGTH, self.encoder.hidden_size)\n",
    "        \n",
    "        for ei in range(input.shape[0]):\n",
    "            encoder_output, encoder_hidden = self.encoder(input[ei], encoder_hidden)\n",
    "            encoder_outputs[:, ei] = encoder_output\n",
    "\n",
    "        encoder_outputs = self.self_attention(encoder_outputs)\n",
    "        out = encoder_outputs.permute(1, 2, 0)\n",
    "        out = self.lin1(out)\n",
    "        out = self.relu(out)\n",
    "        out = self.lin2(encoder_outputs.view(bs, -1))\n",
    "        return out"
   ]
  },
  {
   "cell_type": "code",
   "execution_count": null,
   "metadata": {},
   "outputs": [],
   "source": [
    "model = Seq2Lin(38, 128)\n",
    "metrics = [mean_absolute_error, Pearson(val_ds.y)]\n",
    "learner = Learner(data, model, loss_func=nn.MSELoss(), metrics=metrics, callbacks=AddNoise(0.1))"
   ]
  },
  {
   "cell_type": "code",
   "execution_count": null,
   "metadata": {},
   "outputs": [],
   "source": [
    "learner.lr_find()\n",
    "learner.recorder.plot(suggestion=True)"
   ]
  },
  {
   "cell_type": "code",
   "execution_count": null,
   "metadata": {},
   "outputs": [],
   "source": [
    "learner.fit_one_cycle(10, 1e-3)"
   ]
  },
  {
   "cell_type": "code",
   "execution_count": null,
   "metadata": {},
   "outputs": [],
   "source": []
  }
 ],
 "metadata": {
  "kernelspec": {
   "display_name": "Python 3",
   "language": "python",
   "name": "python3"
  },
  "language_info": {
   "codemirror_mode": {
    "name": "ipython",
    "version": 3
   },
   "file_extension": ".py",
   "mimetype": "text/x-python",
   "name": "python",
   "nbconvert_exporter": "python",
   "pygments_lexer": "ipython3",
   "version": "3.6.9"
  }
 },
 "nbformat": 4,
 "nbformat_minor": 2
}
