{
 "cells": [
  {
   "cell_type": "code",
   "execution_count": 36,
   "metadata": {
    "ExecuteTime": {
     "end_time": "2020-02-23T08:01:21.107520Z",
     "start_time": "2020-02-23T08:01:21.048337Z"
    }
   },
   "outputs": [
    {
     "data": {
      "text/plain": [
       "0.7015319721195489"
      ]
     },
     "execution_count": 36,
     "metadata": {},
     "output_type": "execute_result"
    }
   ],
   "source": [
    "import numpy as np\n",
    "import pandas as pd\n",
    "from scipy.stats import pearsonr\n",
    "\n",
    "# an example for how the true and predicted glucose data should look like.\n",
    "glucose = pd.DataFrame(np.random.normal(0, 1, (1000, 8)), index=np.array([np.repeat(i, 10) for i in range(100)]).ravel())\n",
    "glucose.index.names = ['id']\n",
    "\n",
    "glucose2 = pd.DataFrame(glucose.values + np.random.normal(0, 1, (1000, 8)), index=np.array([np.repeat(i, 10) for i in range(100)]).ravel())\n",
    "glucose2.index.names = ['id']\n",
    "\n",
    "def compute_mean_pearson(y_true, y_pred, individual_index_name='id', n_future_time_points=8):\n",
    "    \"\"\"\n",
    "    This function takes the true glucose values and the predicted ones, flattens the data per individual and then\n",
    "    computed the Pearson correlation between the two vectors per individual.\n",
    "    \n",
    "    **This is how we will evaluate your predictions, you may use this function in your code**\n",
    "    \n",
    "    :param y_true: an M by n_future_time_points data frame holding the true glucose values\n",
    "    :param y_pred: an M by n_future_time_points data frame holding the predicted glucose values\n",
    "    :param individual_index_name: the name of the individual's indeces, default is 'id'\n",
    "    :param n_future_time_points: number of future time points to predict, default is 8\n",
    "    :return: the mean Pearson correlation\n",
    "    \"\"\"\n",
    "    # making sure y_true and y_pred are of the same size\n",
    "    assert y_true.shape == y_pred.shape\n",
    "    # making sure y_true and y_pred share the same exact indeces and index names\n",
    "    assert (y_true.index == y_pred.index).all() and y_true.index.names == y_pred.index.names\n",
    "    # making sure that individual_index_name is a part of the index of both dataframes\n",
    "    assert individual_index_name in y_true.index.names and individual_index_name in y_pred.index.names\n",
    "    \n",
    "    # concat data frames\n",
    "    joined_df = pd.concat((y_true, y_pred), axis=1)\n",
    "    return joined_df.groupby(individual_index_name)\\\n",
    "                    .apply(lambda x: pearsonr(x.iloc[:, :n_future_time_points].values.ravel(), \n",
    "                                              x.iloc[:, n_future_time_points:].values.ravel())[0]).mean()\n",
    "    \n",
    "# how you should call the function\n",
    "compute_mean_pearson(glucose, glucose2)"
   ]
  }
 ],
 "metadata": {
  "kernelspec": {
   "display_name": "Python 3",
   "language": "python",
   "name": "python3"
  },
  "language_info": {
   "codemirror_mode": {
    "name": "ipython",
    "version": 3
   },
   "file_extension": ".py",
   "mimetype": "text/x-python",
   "name": "python",
   "nbconvert_exporter": "python",
   "pygments_lexer": "ipython3",
   "version": "3.6.4"
  },
  "toc": {
   "base_numbering": 1,
   "nav_menu": {},
   "number_sections": true,
   "sideBar": true,
   "skip_h1_title": false,
   "title_cell": "Table of Contents",
   "title_sidebar": "Contents",
   "toc_cell": false,
   "toc_position": {},
   "toc_section_display": true,
   "toc_window_display": false
  }
 },
 "nbformat": 4,
 "nbformat_minor": 2
}
