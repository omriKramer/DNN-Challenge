{
 "cells": [
  {
   "cell_type": "code",
   "execution_count": 1,
   "metadata": {},
   "outputs": [],
   "source": [
    "import sys\n",
    "sys.path[0] = ('/home/labs/waic/omrik/DNN-Challenge')\n",
    "from fastai.vision import *\n",
    "import pre\n",
    "import resample\n",
    "\n",
    "root = Path('../data').resolve()\n",
    "train = root / 'train'\n",
    "val = root / 'val'"
   ]
  },
  {
   "cell_type": "code",
   "execution_count": 2,
   "metadata": {},
   "outputs": [],
   "source": [
    "def normalize_time(series):\n",
    "    # 1440 minutes in a day\n",
    "    normalized = (series.hour * 60 + series.minute) / 1440\n",
    "    return normalized\n",
    "\n",
    "def get_data(data_dir):\n",
    "    cgm, meals = pre.get_dfs(data_dir)\n",
    "    meals = resample.resample_meals(cgm, meals, 15)\n",
    "    meals = pd.concat((meals, cgm), axis=1)\n",
    "    meals['time'] = normalize_time(meals.index.get_level_values('Date'))\n",
    "    cgm, y = pre.build_cgm(cgm)\n",
    "    return cgm, meals, y\n",
    "\n",
    "class ContData(Dataset):\n",
    "    def __init__(self, cgm, meals, y):\n",
    "        self.cgm = cgm\n",
    "        self.meals = meals\n",
    "        self.y = y\n",
    "        \n",
    "    def __len__(self):\n",
    "        return len(self.cgm)\n",
    "    \n",
    "    def __getitem__(self, i):\n",
    "        index = self.meals.index.get_loc(self.cgm.index[i])\n",
    "        values = self.meals[index-48:index+1].values\n",
    "        target = self.y.iloc[i].values\n",
    "        x, y = torch.tensor(values, dtype=torch.float), torch.tensor(target, dtype=torch.float)\n",
    "        return x, y\n",
    "    \n",
    "class AddNoise(Callback):\n",
    "    _order = 0\n",
    "    \n",
    "    def __init__(self, std):\n",
    "        self.std = std\n",
    "        \n",
    "    def on_batch_begin(self, last_input, last_target, train, **kwargs):\n",
    "        if not train:\n",
    "            return\n",
    "        \n",
    "        size = last_input.shape[0], last_input.shape[2]\n",
    "        noise = torch.normal(0, self.std, size).to(last_input.device)\n",
    "        last_input[:, -2] += noise\n",
    "        return {'last_input': last_input}\n"
   ]
  },
  {
   "cell_type": "code",
   "execution_count": 3,
   "metadata": {},
   "outputs": [
    {
     "name": "stderr",
     "output_type": "stream",
     "text": [
      "/home/labs/waic/omrik/DNN-Challenge/pre.py:73: FutureWarning: \n",
      "Passing list-likes to .loc or [] with any missing label will raise\n",
      "KeyError in the future, you can use .reindex() as an alternative.\n",
      "\n",
      "See the documentation here:\n",
      "https://pandas.pydata.org/pandas-docs/stable/indexing.html#deprecate-loc-reindex-listlike\n",
      "  X = X.loc[y.index].dropna(how='any', axis=0)\n"
     ]
    }
   ],
   "source": [
    "train_data = get_data(train)\n",
    "val_data = get_data(val)"
   ]
  },
  {
   "cell_type": "code",
   "execution_count": 4,
   "metadata": {},
   "outputs": [
    {
     "data": {
      "text/plain": [
       "DataBunch;\n",
       "\n",
       "Train: <__main__.ContData object at 0x7f8f1f6fe1d0>;\n",
       "\n",
       "Valid: <__main__.ContData object at 0x7f8f1f6fec88>;\n",
       "\n",
       "Test: None"
      ]
     },
     "execution_count": 4,
     "metadata": {},
     "output_type": "execute_result"
    }
   ],
   "source": [
    "train_ds = ContData(*train_data)\n",
    "val_ds = ContData(*val_data)\n",
    "data = DataBunch.create(train_ds, val_ds, bs=512)\n",
    "data"
   ]
  },
  {
   "cell_type": "code",
   "execution_count": 77,
   "metadata": {},
   "outputs": [],
   "source": [
    "class PositionalEncoding(nn.Module):\n",
    "\n",
    "    def __init__(self, d_model, dropout=0.1, max_len=5000):\n",
    "        super(PositionalEncoding, self).__init__()\n",
    "        self.dropout = nn.Dropout(p=dropout)\n",
    "\n",
    "        pe = torch.zeros(max_len, d_model)\n",
    "        position = torch.arange(0, max_len, dtype=torch.float).unsqueeze(1)\n",
    "        div_term = torch.exp(torch.arange(0, d_model, 2).float() * (-math.log(10000.0) / d_model))\n",
    "        pe[:, 0::2] = torch.sin(position * div_term)\n",
    "        pe[:, 1::2] = torch.cos(position * div_term)\n",
    "        pe = pe.unsqueeze(0).transpose(0, 1)\n",
    "        self.register_buffer('pe', pe)\n",
    "\n",
    "    def forward(self, x):\n",
    "        x = x + self.pe[:x.size(0), :]\n",
    "        return self.dropout(x)\n",
    "\n",
    "    \n",
    "\n",
    "class TransformerModel(Module):\n",
    "    def __init__(self, pos_dropout=0., d_model=512, nhead=8, nlayers=6, dim_feedforward=2048, dropout=0.1):\n",
    "        super().__init__()\n",
    "        \n",
    "        encoder_layer = nn.TransformerEncoderLayer(d_model, nhead, dim_feedforward, dropout)\n",
    "        encoder_norm = nn.LayerNorm(d_model)\n",
    "        self.transformer_encoder = nn.TransformerEncoder(encoder_layer, nlayers, encoder_norm)\n",
    "        \n",
    "        decoder_layer = nn.TransformerDecoderLayer(d_model, nhead, dim_feedforward, dropout)\n",
    "        decoder_norm = nn.LayerNorm(d_model)\n",
    "        self.transformer_decoder = nn.TransformerDecoder(decoder_layer, nlayers, decoder_norm)\n",
    "        \n",
    "        self.d_model = d_model\n",
    "        self.input_embedding = nn.Linear(38, self.d_model)\n",
    "        self.output_embedding = nn.Linear(1, self.d_model)\n",
    "        self.pos_encoder = PositionalEncoding(self.d_model, pos_dropout)\n",
    "        self.decoder = nn.Linear(self.d_model, 1)\n",
    "        \n",
    "    def one_iter(self, mem, tgt, mask):\n",
    "        tgt = self.output_embedding(tgt) * math.sqrt(self.d_model)\n",
    "        tgt = self.pos_encoder(tgt)\n",
    "        \n",
    "        output = self.transformer_decoder(tgt, mem, tgt_mask=mask)\n",
    "        \n",
    "        output = self.decoder(output)\n",
    "        output = output\n",
    "        return output\n",
    "    \n",
    "    @staticmethod\n",
    "    def generate_square_subsequent_mask(sz):\n",
    "        r\"\"\"Generate a square mask for the sequence. The masked positions are filled with float('-inf').\n",
    "            Unmasked positions are filled with float(0.0).\n",
    "        \"\"\"\n",
    "        mask = (torch.triu(torch.ones(sz, sz)) == 1).transpose(0, 1)\n",
    "        mask = mask.float().masked_fill(mask == 0, float('-inf')).masked_fill(mask == 1, float(0.0))\n",
    "        return mask\n",
    "\n",
    "    def forward(self, src, tgt, train):\n",
    "        src = src.transpose(0, 1)\n",
    "        src = self.input_embedding(src) * math.sqrt(self.d_model)\n",
    "        src = self.pos_encoder(src)\n",
    "        mem = self.transformer_encoder(src)\n",
    "        \n",
    "        sos = tgt.new_zeros((tgt.shape[0], 1))\n",
    "        tgt = torch.cat((sos, tgt), dim=1)\n",
    "        tgt = tgt.T.unsqueeze(-1)[:-1]\n",
    "        \n",
    "        mask = self.generate_square_subsequent_mask(tgt.shape[0]).to(tgt.device)\n",
    "        if train:\n",
    "            out = self.one_iter(mem, tgt, mask)\n",
    "            return out.squeeze().T\n",
    "        \n",
    "        tgt = tgt.new_zeros((9, tgt.shape[1], 1))\n",
    "        for i in range(8):\n",
    "            tgt[i+1] = self.one_iter(src, tgt[:-1], mask)[i]\n",
    "        \n",
    "        out = tgt[:-1]\n",
    "        return out.squeeze().T\n",
    "        \n",
    "\n",
    "class TransformerCallback(Callback):\n",
    "    _order = 5\n",
    "    \n",
    "    def __init__(self):\n",
    "        super().__init__()\n",
    "        \n",
    "    def on_batch_begin(self, last_input, last_target, train, **kwargs):\n",
    "        return {'last_input': (last_input, last_target, train)}\n"
   ]
  },
  {
   "cell_type": "code",
   "execution_count": 78,
   "metadata": {},
   "outputs": [],
   "source": [
    "from metrics import Pearson\n",
    "\n",
    "model = TransformerModel(d_model=128, nhead=2, nlayers=2, dim_feedforward=256)\n",
    "metrics = [mean_absolute_error, Pearson(val_ds.y)]\n",
    "callbacks = [AddNoise(0.1), TransformerCallback()]\n",
    "learner = Learner(data, model, loss_func=nn.MSELoss(), callbacks=callbacks, metrics=metrics)"
   ]
  },
  {
   "cell_type": "code",
   "execution_count": 79,
   "metadata": {},
   "outputs": [
    {
     "data": {
      "text/html": [
       "\n",
       "    <div>\n",
       "        <style>\n",
       "            /* Turns off some styling */\n",
       "            progress {\n",
       "                /* gets rid of default border in Firefox and Opera. */\n",
       "                border: none;\n",
       "                /* Needs to be in here for Safari polyfill so background images work as expected. */\n",
       "                background-size: auto;\n",
       "            }\n",
       "            .progress-bar-interrupted, .progress-bar-interrupted::-webkit-progress-bar {\n",
       "                background: #F44336;\n",
       "            }\n",
       "        </style>\n",
       "      <progress value='0' class='' max='1', style='width:300px; height:20px; vertical-align: middle;'></progress>\n",
       "      0.00% [0/1 00:00<00:00]\n",
       "    </div>\n",
       "    \n",
       "<table border=\"1\" class=\"dataframe\">\n",
       "  <thead>\n",
       "    <tr style=\"text-align: left;\">\n",
       "      <th>epoch</th>\n",
       "      <th>train_loss</th>\n",
       "      <th>valid_loss</th>\n",
       "      <th>mean_absolute_error</th>\n",
       "      <th>time</th>\n",
       "    </tr>\n",
       "  </thead>\n",
       "  <tbody>\n",
       "  </tbody>\n",
       "</table><p>\n",
       "\n",
       "    <div>\n",
       "        <style>\n",
       "            /* Turns off some styling */\n",
       "            progress {\n",
       "                /* gets rid of default border in Firefox and Opera. */\n",
       "                border: none;\n",
       "                /* Needs to be in here for Safari polyfill so background images work as expected. */\n",
       "                background-size: auto;\n",
       "            }\n",
       "            .progress-bar-interrupted, .progress-bar-interrupted::-webkit-progress-bar {\n",
       "                background: #F44336;\n",
       "            }\n",
       "        </style>\n",
       "      <progress value='87' class='' max='1263', style='width:300px; height:20px; vertical-align: middle;'></progress>\n",
       "      6.89% [87/1263 00:09<02:12 1.1232]\n",
       "    </div>\n",
       "    "
      ],
      "text/plain": [
       "<IPython.core.display.HTML object>"
      ]
     },
     "metadata": {},
     "output_type": "display_data"
    },
    {
     "name": "stdout",
     "output_type": "stream",
     "text": [
      "LR Finder is complete, type {learner_name}.recorder.plot() to see the graph.\n",
      "Min numerical gradient: 3.02E-05\n",
      "Min loss divided by 10: 3.31E-03\n"
     ]
    },
    {
     "data": {
      "image/png": "[encoded data removed]",
      "text/plain": [
       "<Figure size 432x288 with 1 Axes>"
      ]
     },
     "metadata": {
      "needs_background": "light"
     },
     "output_type": "display_data"
    }
   ],
   "source": [
    "learner.lr_find()\n",
    "learner.recorder.plot(suggestion=True)"
   ]
  },
  {
   "cell_type": "code",
   "execution_count": 80,
   "metadata": {},
   "outputs": [
    {
     "data": {
      "text/html": [
       "<table border=\"1\" class=\"dataframe\">\n",
       "  <thead>\n",
       "    <tr style=\"text-align: left;\">\n",
       "      <th>epoch</th>\n",
       "      <th>train_loss</th>\n",
       "      <th>valid_loss</th>\n",
       "      <th>mean_absolute_error</th>\n",
       "      <th>time</th>\n",
       "    </tr>\n",
       "  </thead>\n",
       "  <tbody>\n",
       "    <tr>\n",
       "      <td>0</td>\n",
       "      <td>0.117250</td>\n",
       "      <td>0.667655</td>\n",
       "      <td>0.544844</td>\n",
       "      <td>02:31</td>\n",
       "    </tr>\n",
       "    <tr>\n",
       "      <td>1</td>\n",
       "      <td>0.105223</td>\n",
       "      <td>0.826609</td>\n",
       "      <td>0.629387</td>\n",
       "      <td>02:31</td>\n",
       "    </tr>\n",
       "    <tr>\n",
       "      <td>2</td>\n",
       "      <td>0.091342</td>\n",
       "      <td>0.853935</td>\n",
       "      <td>0.650520</td>\n",
       "      <td>02:31</td>\n",
       "    </tr>\n",
       "    <tr>\n",
       "      <td>3</td>\n",
       "      <td>0.083486</td>\n",
       "      <td>0.968801</td>\n",
       "      <td>0.677371</td>\n",
       "      <td>02:32</td>\n",
       "    </tr>\n",
       "    <tr>\n",
       "      <td>4</td>\n",
       "      <td>0.079945</td>\n",
       "      <td>0.975892</td>\n",
       "      <td>0.677476</td>\n",
       "      <td>02:31</td>\n",
       "    </tr>\n",
       "  </tbody>\n",
       "</table>"
      ],
      "text/plain": [
       "<IPython.core.display.HTML object>"
      ]
     },
     "metadata": {},
     "output_type": "display_data"
    }
   ],
   "source": [
    "learner.fit_one_cycle(5, 1e-3)"
   ]
  },
  {
   "cell_type": "code",
   "execution_count": null,
   "metadata": {},
   "outputs": [],
   "source": []
  }
 ],
 "metadata": {
  "kernelspec": {
   "display_name": "Python 3",
   "language": "python",
   "name": "python3"
  },
  "language_info": {
   "codemirror_mode": {
    "name": "ipython",
    "version": 3
   },
   "file_extension": ".py",
   "mimetype": "text/x-python",
   "name": "python",
   "nbconvert_exporter": "python",
   "pygments_lexer": "ipython3",
   "version": "3.6.9"
  }
 },
 "nbformat": 4,
 "nbformat_minor": 2
}
